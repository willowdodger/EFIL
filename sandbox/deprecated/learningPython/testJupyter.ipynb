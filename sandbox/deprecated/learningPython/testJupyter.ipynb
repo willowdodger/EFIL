{
 "cells": [
  {
   "cell_type": "code",
   "execution_count": 1,
   "metadata": {
    "collapsed": true
   },
   "outputs": [
    {
     "data": {
      "text/plain": [
       "6"
      ]
     },
     "execution_count": 1,
     "metadata": {},
     "output_type": "execute_result"
    }
   ],
   "source": [
    "2*3"
   ]
  },
  {
   "cell_type": "code",
   "execution_count": 2,
   "metadata": {},
   "outputs": [
    {
     "data": {
      "text/plain": [
       "'hello world'"
      ]
     },
     "execution_count": 2,
     "metadata": {},
     "output_type": "execute_result"
    }
   ],
   "source": [
    "\"hello world\""
   ]
  },
  {
   "cell_type": "code",
   "execution_count": 4,
   "metadata": {},
   "outputs": [
    {
     "name": "stdout",
     "output_type": "stream",
     "text": [
      "hello world\n"
     ]
    }
   ],
   "source": [
    "print('hello world')"
   ]
  },
  {
   "cell_type": "code",
   "execution_count": 5,
   "metadata": {},
   "outputs": [
    {
     "name": "stdout",
     "output_type": "stream",
     "text": [
      "10\n"
     ]
    }
   ],
   "source": [
    "print(5+5)"
   ]
  },
  {
   "cell_type": "code",
   "execution_count": 8,
   "metadata": {},
   "outputs": [
    {
     "name": "stdout",
     "output_type": "stream",
     "text": [
      "256\n"
     ]
    }
   ],
   "source": [
    "print(4**4)"
   ]
  },
  {
   "cell_type": "markdown",
   "metadata": {},
   "source": [
    "print(5*5)"
   ]
  },
  {
   "cell_type": "code",
   "execution_count": 11,
   "metadata": {},
   "outputs": [
    {
     "name": "stdout",
     "output_type": "stream",
     "text": [
      "10\n15\n17\n"
     ]
    },
    {
     "ename": "NameError",
     "evalue": "name 'z' is not defined",
     "traceback": [
      "\u001b[0;31m---------------------------------------------------------------------------\u001b[0m",
      "\u001b[0;31mNameError\u001b[0m                                 Traceback (most recent call last)",
      "\u001b[0;32m<ipython-input-11-229ed3e617e9>\u001b[0m in \u001b[0;36m<module>\u001b[0;34m()\u001b[0m\n\u001b[1;32m      5\u001b[0m \u001b[0my\u001b[0m \u001b[0;34m=\u001b[0m \u001b[0mx\u001b[0m \u001b[0;34m+\u001b[0m \u001b[0;36m7\u001b[0m\u001b[0;34m\u001b[0m\u001b[0m\n\u001b[1;32m      6\u001b[0m \u001b[0mprint\u001b[0m\u001b[0;34m(\u001b[0m\u001b[0my\u001b[0m\u001b[0;34m)\u001b[0m\u001b[0;34m\u001b[0m\u001b[0m\n\u001b[0;32m----> 7\u001b[0;31m \u001b[0mprint\u001b[0m\u001b[0;34m(\u001b[0m\u001b[0mz\u001b[0m\u001b[0;34m)\u001b[0m\u001b[0;34m\u001b[0m\u001b[0m\n\u001b[0m\u001b[1;32m      8\u001b[0m \u001b[0;34m\u001b[0m\u001b[0m\n",
      "\u001b[0;31mNameError\u001b[0m: name 'z' is not defined"
     ],
     "output_type": "error"
    }
   ],
   "source": [
    "x = 10\n",
    "print(x)\n",
    "print(x + 5)\n",
    "\n",
    "y = x + 7\n",
    "print(y)\n",
    "print(z)\n",
    "\n"
   ]
  },
  {
   "cell_type": "code",
   "execution_count": 12,
   "metadata": {},
   "outputs": [
    {
     "data": {
      "text/plain": [
       "[0, 1, 2, 3, 4, 5, 6, 7, 8, 9]"
      ]
     },
     "execution_count": 12,
     "metadata": {},
     "output_type": "execute_result"
    }
   ],
   "source": [
    "list(range(10))\n"
   ]
  },
  {
   "cell_type": "code",
   "execution_count": 14,
   "metadata": {},
   "outputs": [
    {
     "name": "stdout",
     "output_type": "stream",
     "text": [
      "0\n1\n2\n3\n4\n5\n6\n7\n8\n9\ndone\n"
     ]
    }
   ],
   "source": [
    "for n in range(10):\n",
    "    print(n)\n",
    "    pass\n",
    "print(\"done\")\n",
    "    "
   ]
  },
  {
   "cell_type": "code",
   "execution_count": 16,
   "metadata": {},
   "outputs": [
    {
     "name": "stdout",
     "output_type": "stream",
     "text": [
      "The square of 0 is 0\nThe square of 1 is 1\nThe square of 2 is 4\nThe square of 3 is 9\nThe square of 4 is 16\nThe square of 5 is 25\nThe square of 6 is 36\nThe square of 7 is 49\nThe square of 8 is 64\nThe square of 9 is 81\nThe square of 10 is 100\nThe square of 11 is 121\nThe square of 12 is 144\nThe square of 13 is 169\nThe square of 14 is 196\nThe square of 15 is 225\nThe square of 16 is 256\nThe square of 17 is 289\nThe square of 18 is 324\nThe square of 19 is 361\nThe square of 20 is 400\nThe square of 21 is 441\nThe square of 22 is 484\nThe square of 23 is 529\nThe square of 24 is 576\nThe square of 25 is 625\nThe square of 26 is 676\nThe square of 27 is 729\nThe square of 28 is 784\nThe square of 29 is 841\nThe square of 30 is 900\nThe square of 31 is 961\nThe square of 32 is 1024\nThe square of 33 is 1089\nThe square of 34 is 1156\nThe square of 35 is 1225\nThe square of 36 is 1296\nThe square of 37 is 1369\nThe square of 38 is 1444\nThe square of 39 is 1521\nThe square of 40 is 1600\nThe square of 41 is 1681\nThe square of 42 is 1764\nThe square of 43 is 1849\nThe square of 44 is 1936\nThe square of 45 is 2025\nThe square of 46 is 2116\nThe square of 47 is 2209\nThe square of 48 is 2304\nThe square of 49 is 2401\nThe square of 50 is 2500\nThe square of 51 is 2601\nThe square of 52 is 2704\nThe square of 53 is 2809\nThe square of 54 is 2916\nThe square of 55 is 3025\nThe square of 56 is 3136\nThe square of 57 is 3249\nThe square of 58 is 3364\nThe square of 59 is 3481\nThe square of 60 is 3600\nThe square of 61 is 3721\nThe square of 62 is 3844\nThe square of 63 is 3969\nThe square of 64 is 4096\nThe square of 65 is 4225\nThe square of 66 is 4356\nThe square of 67 is 4489\nThe square of 68 is 4624\nThe square of 69 is 4761\nThe square of 70 is 4900\nThe square of 71 is 5041\nThe square of 72 is 5184\nThe square of 73 is 5329\nThe square of 74 is 5476\nThe square of 75 is 5625\nThe square of 76 is 5776\nThe square of 77 is 5929\nThe square of 78 is 6084\nThe square of 79 is 6241\nThe square of 80 is 6400\nThe square of 81 is 6561\nThe square of 82 is 6724\nThe square of 83 is 6889\nThe square of 84 is 7056\nThe square of 85 is 7225\nThe square of 86 is 7396\nThe square of 87 is 7569\nThe square of 88 is 7744\nThe square of 89 is 7921\nThe square of 90 is 8100\nThe square of 91 is 8281\nThe square of 92 is 8464\nThe square of 93 is 8649\nThe square of 94 is 8836\nThe square of 95 is 9025\nThe square of 96 is 9216\nThe square of 97 is 9409\nThe square of 98 is 9604\nThe square of 99 is 9801\nThe square of 100 is 10000\nThe square of 101 is 10201\nThe square of 102 is 10404\nThe square of 103 is 10609\nThe square of 104 is 10816\nThe square of 105 is 11025\nThe square of 106 is 11236\nThe square of 107 is 11449\nThe square of 108 is 11664\nThe square of 109 is 11881\nThe square of 110 is 12100\nThe square of 111 is 12321\nThe square of 112 is 12544\nThe square of 113 is 12769\nThe square of 114 is 12996\nThe square of 115 is 13225\nThe square of 116 is 13456\nThe square of 117 is 13689\nThe square of 118 is 13924\nThe square of 119 is 14161\nThe square of 120 is 14400\nThe square of 121 is 14641\nThe square of 122 is 14884\nThe square of 123 is 15129\nThe square of 124 is 15376\nThe square of 125 is 15625\nThe square of 126 is 15876\nThe square of 127 is 16129\nThe square of 128 is 16384\nThe square of 129 is 16641\nThe square of 130 is 16900\nThe square of 131 is 17161\nThe square of 132 is 17424\nThe square of 133 is 17689\nThe square of 134 is 17956\nThe square of 135 is 18225\nThe square of 136 is 18496\nThe square of 137 is 18769\nThe square of 138 is 19044\nThe square of 139 is 19321\nThe square of 140 is 19600\nThe square of 141 is 19881\nThe square of 142 is 20164\nThe square of 143 is 20449\nThe square of 144 is 20736\nThe square of 145 is 21025\nThe square of 146 is 21316\nThe square of 147 is 21609\nThe square of 148 is 21904\nThe square of 149 is 22201\nThe square of 150 is 22500\nThe square of 151 is 22801\nThe square of 152 is 23104\nThe square of 153 is 23409\nThe square of 154 is 23716\nThe square of 155 is 24025\nThe square of 156 is 24336\nThe square of 157 is 24649\nThe square of 158 is 24964\nThe square of 159 is 25281\nThe square of 160 is 25600\nThe square of 161 is 25921\nThe square of 162 is 26244\nThe square of 163 is 26569\nThe square of 164 is 26896\nThe square of 165 is 27225\nThe square of 166 is 27556\nThe square of 167 is 27889\nThe square of 168 is 28224\nThe square of 169 is 28561\nThe square of 170 is 28900\nThe square of 171 is 29241\nThe square of 172 is 29584\nThe square of 173 is 29929\nThe square of 174 is 30276\nThe square of 175 is 30625\nThe square of 176 is 30976\nThe square of 177 is 31329\nThe square of 178 is 31684\nThe square of 179 is 32041\nThe square of 180 is 32400\nThe square of 181 is 32761\nThe square of 182 is 33124\nThe square of 183 is 33489\nThe square of 184 is 33856\nThe square of 185 is 34225\nThe square of 186 is 34596\nThe square of 187 is 34969\nThe square of 188 is 35344\nThe square of 189 is 35721\nThe square of 190 is 36100\nThe square of 191 is 36481\nThe square of 192 is 36864\nThe square of 193 is 37249\nThe square of 194 is 37636\nThe square of 195 is 38025\nThe square of 196 is 38416\nThe square of 197 is 38809\nThe square of 198 is 39204\nThe square of 199 is 39601\nThe square of 200 is 40000\nThe square of 201 is 40401\nThe square of 202 is 40804\nThe square of 203 is 41209\nThe square of 204 is 41616\nThe square of 205 is 42025\nThe square of 206 is 42436\nThe square of 207 is 42849\nThe square of 208 is 43264\nThe square of 209 is 43681\nThe square of 210 is 44100\nThe square of 211 is 44521\nThe square of 212 is 44944\nThe square of 213 is 45369\nThe square of 214 is 45796\nThe square of 215 is 46225\nThe square of 216 is 46656\nThe square of 217 is 47089\nThe square of 218 is 47524\nThe square of 219 is 47961\nThe square of 220 is 48400\nThe square of 221 is 48841\nThe square of 222 is 49284\nThe square of 223 is 49729\nThe square of 224 is 50176\nThe square of 225 is 50625\nThe square of 226 is 51076\nThe square of 227 is 51529\nThe square of 228 is 51984\nThe square of 229 is 52441\nThe square of 230 is 52900\nThe square of 231 is 53361\nThe square of 232 is 53824\nThe square of 233 is 54289\nThe square of 234 is 54756\nThe square of 235 is 55225\nThe square of 236 is 55696\nThe square of 237 is 56169\nThe square of 238 is 56644\nThe square of 239 is 57121\nThe square of 240 is 57600\nThe square of 241 is 58081\nThe square of 242 is 58564\nThe square of 243 is 59049\nThe square of 244 is 59536\nThe square of 245 is 60025\nThe square of 246 is 60516\nThe square of 247 is 61009\nThe square of 248 is 61504\nThe square of 249 is 62001\nThe square of"
     ]
    },
    {
     "name": "stdout",
     "output_type": "stream",
     "text": [
      " 250 is 62500\nThe square of 251 is 63001\nThe square of 252 is 63504\nThe square of 253 is 64009\nThe square of 254 is 64516\nThe square of 255 is 65025\nThe square of 256 is 65536\nThe square of 257 is 66049\nThe square of 258 is 66564\nThe square of 259 is 67081\nThe square of 260 is 67600\nThe square of 261 is 68121\nThe square of 262 is 68644\nThe square of 263 is 69169\nThe square of 264 is 69696\nThe square of 265 is 70225\nThe square of 266 is 70756\nThe square of 267 is 71289\nThe square of 268 is 71824\nThe square of 269 is 72361\nThe square of 270 is 72900\nThe square of 271 is 73441\nThe square of 272 is 73984\nThe square of 273 is 74529\nThe square of 274 is 75076\nThe square of 275 is 75625\nThe square of 276 is 76176\nThe square of 277 is 76729\nThe square of 278 is 77284\nThe square of 279 is 77841\nThe square of 280 is 78400\nThe square of 281 is 78961\nThe square of 282 is 79524\nThe square of 283 is 80089\nThe square of 284 is 80656\nThe square of 285 is 81225\nThe square of 286 is 81796\nThe square of 287 is 82369\nThe square of 288 is 82944\nThe square of 289 is 83521\nThe square of 290 is 84100\nThe square of 291 is 84681\nThe square of 292 is 85264\nThe square of 293 is 85849\nThe square of 294 is 86436\nThe square of 295 is 87025\nThe square of 296 is 87616\nThe square of 297 is 88209\nThe square of 298 is 88804\nThe square of 299 is 89401\nThe square of 300 is 90000\nThe square of 301 is 90601\nThe square of 302 is 91204\nThe square of 303 is 91809\nThe square of 304 is 92416\nThe square of 305 is 93025\nThe square of 306 is 93636\nThe square of 307 is 94249\nThe square of 308 is 94864\nThe square of 309 is 95481\nThe square of 310 is 96100\nThe square of 311 is 96721\nThe square of 312 is 97344\nThe square of 313 is 97969\nThe square of 314 is 98596\nThe square of 315 is 99225\nThe square of 316 is 99856\nThe square of 317 is 100489\nThe square of 318 is 101124\nThe square of 319 is 101761\nThe square of 320 is 102400\nThe square of 321 is 103041\nThe square of 322 is 103684\nThe square of 323 is 104329\nThe square of 324 is 104976\nThe square of 325 is 105625\nThe square of 326 is 106276\nThe square of 327 is 106929\nThe square of 328 is 107584\nThe square of 329 is 108241\nThe square of 330 is 108900\nThe square of 331 is 109561\nThe square of 332 is 110224\nThe square of 333 is 110889\nThe square of 334 is 111556\nThe square of 335 is 112225\nThe square of 336 is 112896\nThe square of 337 is 113569\nThe square of 338 is 114244\nThe square of 339 is 114921\nThe square of 340 is 115600\nThe square of 341 is 116281\nThe square of 342 is 116964\nThe square of 343 is 117649\nThe square of 344 is 118336\nThe square of 345 is 119025\nThe square of 346 is 119716\nThe square of 347 is 120409\nThe square of 348 is 121104\nThe square of 349 is 121801\nThe square of 350 is 122500\nThe square of 351 is 123201\nThe square of 352 is 123904\nThe square of 353 is 124609\nThe square of 354 is 125316\nThe square of 355 is 126025\nThe square of 356 is 126736\nThe square of 357 is 127449\nThe square of 358 is 128164\nThe square of 359 is 128881\nThe square of 360 is 129600\nThe square of 361 is 130321\nThe square of 362 is 131044\nThe square of 363 is 131769\nThe square of 364 is 132496\nThe square of 365 is 133225\nThe square of 366 is 133956\nThe square of 367 is 134689\nThe square of 368 is 135424\nThe square of 369 is 136161\nThe square of 370 is 136900\nThe square of 371 is 137641\nThe square of 372 is 138384\nThe square of 373 is 139129\nThe square of 374 is 139876\nThe square of 375 is 140625\nThe square of 376 is 141376\nThe square of 377 is 142129\nThe square of 378 is 142884\nThe square of 379 is 143641\nThe square of 380 is 144400\nThe square of 381 is 145161\nThe square of 382 is 145924\nThe square of 383 is 146689\nThe square of 384 is 147456\nThe square of 385 is 148225\nThe square of 386 is 148996\nThe square of 387 is 149769\nThe square of 388 is 150544\nThe square of 389 is 151321\nThe square of 390 is 152100\nThe square of 391 is 152881\nThe square of 392 is 153664\nThe square of 393 is 154449\nThe square of 394 is 155236\nThe square of 395 is 156025\nThe square of 396 is 156816\nThe square of 397 is 157609\nThe square of 398 is 158404\nThe square of 399 is 159201\nThe square of 400 is 160000\nThe square of 401 is 160801\nThe square of 402 is 161604\nThe square of 403 is 162409\nThe square of 404 is 163216\nThe square of 405 is 164025\nThe square of 406 is 164836\nThe square of 407 is 165649\nThe square of 408 is 166464\nThe square of 409 is 167281\nThe square of 410 is 168100\nThe square of 411 is 168921\nThe square of 412 is 169744\nThe square of 413 is 170569\nThe square of 414 is 171396\nThe square of 415 is 172225\nThe square of 416 is 173056\nThe square of 417 is 173889\nThe square of 418 is 174724\nThe square of 419 is 175561\nThe square of 420 is 176400\nThe square of 421 is 177241\nThe square of 422 is 178084\nThe square of 423 is 178929\nThe square of 424 is 179776\nThe square of 425 is 180625\nThe square of 426 is 181476\nThe square of 427 is 182329\nThe square of 428 is 183184\nThe square of 429 is 184041\nThe square of 430 is 184900\nThe square of 431 is 185761\nThe square of 432 is 186624\nThe square of 433 is 187489\nThe square of 434 is 188356\nThe square of 435 is 189225\nThe square of 436 is 190096\nThe square of 437 is 190969\nThe square of 438 is 191844\nThe square of 439 is 192721\nThe square of 440 is 193600\nThe square of 441 is 194481\nThe square of 442 is 195364\nThe square of 443 is 196249\nThe square of 444 is 197136\nThe square of 445 is 198025\nThe square of 446 is 198916\nThe square of 447 is 199809\nThe square of 448 is 200704\nThe square of 449 is 201601\nThe square of 450 is 202500\nThe square of 451 is 203401\nThe square of 452 is 204304\nThe square of 453 is 205209\nThe square of 454 is 206116\nThe square of 455 is 207025\nThe square of 456 is 207936\nThe square of 457 is 208849\nThe square of 458 is 209764\nThe square of 459 is 210681\nThe square of 460 is 211600\nThe square of 461 is 212521\nThe square of 462 is 213444\nThe square of 463 is 214369\nThe square of 464 is 215296\nThe square of 465 is 216225\nThe square of 466 is 217156\nThe square of 467 is 218089\nThe square of 468 is 219024\nThe square of 469 is 219961\nThe square of 470 is 220900\nThe square of 471 is 221841\nThe square of 472 is 222784\nThe square of 473 is 223729\nThe square of 474 is 224676\nThe square of 475 is 225625\nThe square of 476 is 226576\nThe square of 477 is 227529\nThe square of 478 is 228484\nThe square of 479 is 229441\nThe square of 480 is 230400\nThe square of 481 is 231361\nThe square of 482 is 232324\nThe square of 483 is 233289\nThe square of 484 is 234256\nThe square of 485 is 235225\nThe square of 486 is 236196\nThe square of 487 is 237169\nThe square of 488 is 238144\nThe square of 489 is 239121\nThe square of 490 is 240100\nThe square of 491 is 241081\nThe square of 492 is 242064\nThe square of 493 is 243049\nThe square of 494 is 244036\nThe square of 495 is 245025\nThe square of 496 is 246016\nThe square of 497 is 247009\nThe square of 498 is 248004\nThe square of 499 is 249001\nThe square of 500 is 250000\nThe square of 501 is 251001\nThe square of 502 is 252004\nThe square of 503 is 253009\nThe square of 504 is 254016\nThe square of 505 is 255025\nThe square of 506 is 256036\nThe square of 507 is 257049\nThe square of 508 is 258064\nThe square of 509 is 259081\nThe square of 510 is 260100\nThe square of 511 is 261121\nThe square of 512 is 262144\nThe square of 513 is 263169\nThe square of 514 is 264196\nThe square of 515 is 265225\nThe square of 516 is 266256\nThe square of 517 is 267289\nThe square of 518 is 268324\nThe square of 519 is 269361\nThe square of 520 is 270400\nThe square of 521 is 271441\nThe square of 522 is 272484\nThe square of 523 is 273529\nThe square of 524 is 274576\nThe square of 525 is 275625\nThe square of 526 is 276676\nThe square of 527 is 277729\nThe square of 528 is 278784\nThe square of 529 is 279841\nThe square of 530 is 280900\nThe square of 531 is 281961\nThe square of 532 is 283024\nThe square of 533 is 284089\nThe square of 534 is 285156\nThe square of 535 is 286225\nThe square of 536 is 287296\nThe square of 537 is 288369\nThe square of 538 is 289444\nThe square of 539 is 290521\nThe square of 540 is 291600\nThe square of 541 is 292681\nThe square of 542 is 293764\nThe square of 543 is 294849\nThe square of 544 is 295936\nThe square of 545 is 297025\nThe square of 546 is 298116\nThe square of 547 is 299209\nThe square of 548 is 300304\nThe square of 549 is 301401\nThe square of 550 is 302500\nThe square of 551 is 303601\nThe square of 552 is 304704\nThe square of 553 is 305809\nThe square of 554 is 306916\nThe square of 555 is 308025\nThe square of 556 is 309136\nThe square of 557 is 310249\nThe square of 558 is 311364\nThe square of 559 is 312481\nThe square of 560 is 313600\nThe square of 561 is 314721\nThe square of 562 is 315844\nThe square of 563 is 316969\nThe square of 564 is 318096\nThe square of 565 is 319225\nThe square of 566 is 320356\nThe square of 567 is 321489\nThe square of 568 is 322624\nThe square of 569 is 323761\nThe square of 570 is 324900\nThe square of 571 is 326041\nThe square of 572 is 327184\nThe square of 573 is 328329\nThe square of 574 is 329476\nThe square of 575 is 330625\nThe square of 576 is 331776\nThe square of 577 is 332929\nThe square of 578 is 334084\nThe square of 579 is 335241\nThe square of 580 is 336400\nThe square of 581 is 337561\nThe square of 582 is 338724\nThe square of 583 is 339889\nThe square of 584 is 341056\nThe square of 585 is 342225\nThe square of 586 is 343396\nThe square of 587 is 344569\nThe square of 588 is 345744\nThe square of 589 is 346921\nThe square of 590 is 348100\nThe square of 591 is 349281\nThe square of 592 is 350464\nThe square of 593 is 351649\nThe square of 594 is 352836\nThe square of 595 is 354025\nThe square of 596 is 355216\nThe square of 597 is 356409\nThe square of 598 is 357604\nThe square of 599 is 358801\nThe square of 600 is 360000\nThe square of 601 is 361201\nThe square of 602 is 362404\nThe square of 603 is 363609\nThe square of 604 is 364816\nThe square of 605 is 366025\nThe square of 606 is 367236\nThe square of 607 is 368449\nThe square of 608 is 369664\nThe square of 609 is 370881\nThe square of 610 is 372100\nThe square of 611 is 373321\nThe square of 612 is 374544\nThe square of 613 is 375769\nThe square of 614 is 376996\nThe square of 615 is 378225\nThe square of 616 is 379456\nThe square of 617 is 380689\nThe square of 618 is 381924\nThe square of 619 is 383161\nThe square of 620 is 384400\nThe square of 621 is 385641\nThe square of 622 is 386884\nThe square of 623 is 388129\nThe square of 624 is 389376\nThe square of 625 is 390625\nThe square of 626 is 391876\nThe square of 627 is 393129\nThe square of 628 is 394384\nThe square of 629 is 395641\nThe square of 630 is 396900\nThe square of 631 is 398161\nThe square of 632 is 399424\nThe square of 633 is 400689\nThe square of 634 is 401956\nThe square of 635 is 403225\nThe square of 636 is 404496\nThe square of 637 is 405769\nThe square of 638 is 407044\nThe square of 639 is 408321\nThe square of 640 is 409600\nThe square of 641 is 410881\nThe square of 642 is 412164\nThe square of 643 is 413449\nThe square of 644 is 414736\nThe square of 645 is 416025\nThe square of 646 is 417316\nThe square of 647 is 418609\nThe square of 648 is 419904\nThe square of 649 is 421201\nThe square of 650 is 422500\nThe square of 651 is 423801\nThe square of 652 is 425104\nThe square of 653 is 426409\nThe square of 654 is 427716\nThe square of 655 is 429025\nThe square of 656 is 430336\nThe square of 657 is 431649\nThe square of 658 is 432964\nThe square of 659 is 434281\nThe square of 660 is 435600\nThe square of 661 is 436921\nThe square of 662 is 438244\nThe square of 663 is 439569\nThe square of 664 is 440896\nThe square of 665 is 442225\nThe square of 666 is 443556\nThe square of 667 is 444889\nThe square of 668 is 446224\nThe square of 669 is 447561\nThe square of 670 is 448900\nThe square of 671 is 450241\nThe square of 672 is 451584\nThe square of 673 is 452929\nThe square of 674 is 454276\nThe square of 675 is 455625\nThe square of 676 is 456976\nThe square of 677 is 458329\nThe square of 678 is 459684\nThe square of 679 is 461041\nThe square of 680 is 462400\nThe square of 681 is 463761\nThe square of 682 is 465124\nThe square of 683 is 466489\nThe square of 684 is 467856\nThe square of 685 is 469225\nThe square of 686 is 470596\nThe square of 687 is 471969\nThe square of 688 is 473344\nThe square of 689 is 474721\nThe square of 690 is 476100\nThe square of 691 is 477481\nThe square of 692 is 478864\nThe square of 693 is 480249\nThe square of 694 is 481636\nThe square of 695 is 483025\nThe square of 696 is 484416\nThe square of 697 is 485809\nThe square of 698 is 487204\nThe square of 699 is 488601\nThe square of 700 is 490000\nThe square of 701 is 491401\nThe square of 702 is 492804\nThe square of 703 is 494209\nThe square of 704 is 495616\nThe square of 705 is 497025\nThe square of 706 is 498436\nThe square of 707 is 499849\nThe square of 708 is 501264\nThe square of 709 is 502681\nThe square of 710 is 504100\nThe square of 711 is 505521\nThe square of 712 is 506944\nThe square of 713 is 508369\nThe square of 714 is 509796\nThe square of"
     ]
    },
    {
     "name": "stdout",
     "output_type": "stream",
     "text": [
      " 715 is 511225\nThe square of 716 is 512656\nThe square of 717 is 514089\nThe square of 718 is 515524\nThe square of 719 is 516961\nThe square of 720 is 518400\nThe square of 721 is 519841\nThe square of 722 is 521284\nThe square of 723 is 522729\nThe square of 724 is 524176\nThe square of 725 is 525625\nThe square of 726 is 527076\nThe square of 727 is 528529\nThe square of 728 is 529984\nThe square of 729 is 531441\nThe square of 730 is 532900\nThe square of 731 is 534361\nThe square of 732 is 535824\nThe square of 733 is 537289\nThe square of 734 is 538756\nThe square of 735 is 540225\nThe square of 736 is 541696\nThe square of 737 is 543169\nThe square of 738 is 544644\nThe square of 739 is 546121\nThe square of 740 is 547600\nThe square of 741 is 549081\nThe square of 742 is 550564\nThe square of 743 is 552049\nThe square of 744 is 553536\nThe square of 745 is 555025\nThe square of 746 is 556516\nThe square of 747 is 558009\nThe square of 748 is 559504\nThe square of 749 is 561001\nThe square of 750 is 562500\nThe square of 751 is 564001\nThe square of 752 is 565504\nThe square of 753 is 567009\nThe square of 754 is 568516\nThe square of 755 is 570025\nThe square of 756 is 571536\nThe square of 757 is 573049\nThe square of 758 is 574564\nThe square of 759 is 576081\nThe square of 760 is 577600\nThe square of 761 is 579121\nThe square of 762 is 580644\nThe square of 763 is 582169\nThe square of 764 is 583696\nThe square of 765 is 585225\nThe square of 766 is 586756\nThe square of 767 is 588289\nThe square of 768 is 589824\nThe square of 769 is 591361\nThe square of 770 is 592900\nThe square of 771 is 594441\nThe square of 772 is 595984\nThe square of 773 is 597529\nThe square of 774 is 599076\nThe square of 775 is 600625\nThe square of 776 is 602176\nThe square of 777 is 603729\nThe square of 778 is 605284\nThe square of 779 is 606841\nThe square of 780 is 608400\nThe square of 781 is 609961\nThe square of 782 is 611524\nThe square of 783 is 613089\nThe square of 784 is 614656\nThe square of 785 is 616225\nThe square of 786 is 617796\nThe square of 787 is 619369\nThe square of 788 is 620944\nThe square of 789 is 622521\nThe square of 790 is 624100\nThe square of 791 is 625681\nThe square of 792 is 627264\nThe square of 793 is 628849\nThe square of 794 is 630436\nThe square of 795 is 632025\nThe square of 796 is 633616\nThe square of 797 is 635209\nThe square of 798 is 636804\nThe square of 799 is 638401\nThe square of 800 is 640000\nThe square of 801 is 641601\nThe square of 802 is 643204\nThe square of 803 is 644809\nThe square of 804 is 646416\nThe square of 805 is 648025\nThe square of 806 is 649636\nThe square of 807 is 651249\nThe square of 808 is 652864\nThe square of 809 is 654481\nThe square of 810 is 656100\nThe square of 811 is 657721\nThe square of 812 is 659344\nThe square of 813 is 660969\nThe square of 814 is 662596\nThe square of 815 is 664225\nThe square of 816 is 665856\nThe square of 817 is 667489\nThe square of 818 is 669124\nThe square of 819 is 670761\nThe square of 820 is 672400\nThe square of 821 is 674041\nThe square of 822 is 675684\nThe square of 823 is 677329\nThe square of 824 is 678976\nThe square of 825 is 680625\nThe square of 826 is 682276\nThe square of 827 is 683929\nThe square of 828 is 685584\nThe square of 829 is 687241\nThe square of 830 is 688900\nThe square of 831 is 690561\nThe square of 832 is 692224\nThe square of 833 is 693889\nThe square of 834 is 695556\nThe square of 835 is 697225\nThe square of 836 is 698896\nThe square of 837 is 700569\nThe square of 838 is 702244\nThe square of 839 is 703921\nThe square of 840 is 705600\nThe square of 841 is 707281\nThe square of 842 is 708964\nThe square of 843 is 710649\nThe square of 844 is 712336\nThe square of 845 is 714025\nThe square of 846 is 715716\nThe square of 847 is 717409\nThe square of 848 is 719104\nThe square of 849 is 720801\nThe square of 850 is 722500\nThe square of 851 is 724201\nThe square of 852 is 725904\nThe square of 853 is 727609\nThe square of 854 is 729316\nThe square of 855 is 731025\nThe square of 856 is 732736\nThe square of 857 is 734449\nThe square of 858 is 736164\nThe square of 859 is 737881\nThe square of 860 is 739600\nThe square of 861 is 741321\nThe square of 862 is 743044\nThe square of 863 is 744769\nThe square of 864 is 746496\nThe square of 865 is 748225\nThe square of 866 is 749956\nThe square of 867 is 751689\nThe square of 868 is 753424\nThe square of 869 is 755161\nThe square of 870 is 756900\nThe square of 871 is 758641\nThe square of 872 is 760384\nThe square of 873 is 762129\nThe square of 874 is 763876\nThe square of 875 is 765625\nThe square of 876 is 767376\nThe square of 877 is 769129\nThe square of 878 is 770884\nThe square of 879 is 772641\nThe square of 880 is 774400\nThe square of 881 is 776161\nThe square of 882 is 777924\nThe square of 883 is 779689\nThe square of 884 is 781456\nThe square of 885 is 783225\nThe square of 886 is 784996\nThe square of 887 is 786769\nThe square of 888 is 788544\nThe square of 889 is 790321\nThe square of 890 is 792100\nThe square of 891 is 793881\nThe square of 892 is 795664\nThe square of 893 is 797449\nThe square of 894 is 799236\nThe square of 895 is 801025\nThe square of 896 is 802816\nThe square of 897 is 804609\nThe square of 898 is 806404\nThe square of 899 is 808201\nThe square of 900 is 810000\nThe square of 901 is 811801\nThe square of 902 is 813604\nThe square of 903 is 815409\nThe square of 904 is 817216\nThe square of 905 is 819025\nThe square of 906 is 820836\nThe square of 907 is 822649\nThe square of 908 is 824464\nThe square of 909 is 826281\nThe square of 910 is 828100\nThe square of 911 is 829921\nThe square of 912 is 831744\nThe square of 913 is 833569\nThe square of 914 is 835396\nThe square of 915 is 837225\nThe square of 916 is 839056\nThe square of 917 is 840889\nThe square of 918 is 842724\nThe square of 919 is 844561\nThe square of 920 is 846400\nThe square of 921 is 848241\nThe square of 922 is 850084\nThe square of 923 is 851929\nThe square of 924 is 853776\nThe square of 925 is 855625\nThe square of 926 is 857476\nThe square of 927 is 859329\nThe square of 928 is 861184\nThe square of 929 is 863041\nThe square of 930 is 864900\nThe square of 931 is 866761\nThe square of 932 is 868624\nThe square of 933 is 870489\nThe square of 934 is 872356\nThe square of 935 is 874225\nThe square of 936 is 876096\nThe square of 937 is 877969\nThe square of 938 is 879844\nThe square of 939 is 881721\nThe square of 940 is 883600\nThe square of 941 is 885481\nThe square of 942 is 887364\nThe square of 943 is 889249\nThe square of 944 is 891136\nThe square of 945 is 893025\nThe square of 946 is 894916\nThe square of 947 is 896809\nThe square of 948 is 898704\nThe square of 949 is 900601\nThe square of 950 is 902500\nThe square of 951 is 904401\nThe square of 952 is 906304\nThe square of 953 is 908209\nThe square of 954 is 910116\nThe square of 955 is 912025\nThe square of 956 is 913936\nThe square of 957 is 915849\nThe square of 958 is 917764\nThe square of 959 is 919681\nThe square of 960 is 921600\nThe square of 961 is 923521\nThe square of 962 is 925444\nThe square of 963 is 927369\nThe square of 964 is 929296\nThe square of 965 is 931225\nThe square of 966 is 933156\nThe square of 967 is 935089\nThe square of 968 is 937024\nThe square of 969 is 938961\nThe square of 970 is 940900\nThe square of 971 is 942841\nThe square of 972 is 944784\nThe square of 973 is 946729\nThe square of 974 is 948676\nThe square of 975 is 950625\nThe square of 976 is 952576\nThe square of 977 is 954529\nThe square of 978 is 956484\nThe square of 979 is 958441\nThe square of 980 is 960400\nThe square of 981 is 962361\nThe square of 982 is 964324\nThe square of 983 is 966289\nThe square of 984 is 968256\nThe square of 985 is 970225\nThe square of 986 is 972196\nThe square of 987 is 974169\nThe square of 988 is 976144\nThe square of 989 is 978121\nThe square of 990 is 980100\nThe square of 991 is 982081\nThe square of 992 is 984064\nThe square of 993 is 986049\nThe square of 994 is 988036\nThe square of 995 is 990025\nThe square of 996 is 992016\nThe square of 997 is 994009\nThe square of 998 is 996004\nThe square of 999 is 998001\ndone\n"
     ]
    }
   ],
   "source": [
    "for n in range(1000):\n",
    "    print(\"The square of\", n, \"is\", n*n)\n",
    "    pass\n",
    "print(\"done\")"
   ]
  },
  {
   "cell_type": "code",
   "execution_count": 17,
   "metadata": {},
   "outputs": [
    {
     "name": "stdout",
     "output_type": "stream",
     "text": [
      "First input is 5\nSecond input is 55\naverage is 30.0\n30.0\n"
     ]
    }
   ],
   "source": [
    "#function that takes 2 numbers as input\n",
    "#and outputs their average\n",
    "\n",
    "def avg(x, y):\n",
    "    print(\"First input is\", x)\n",
    "    print(\"Second input is\", y)\n",
    "    a = (x + y) / 2.0\n",
    "    print(\"average is\", a)\n",
    "    return a\n",
    "    \n",
    "print(avg(5,55))    "
   ]
  },
  {
   "cell_type": "code",
   "execution_count": 19,
   "metadata": {},
   "outputs": [],
   "source": [
    "import numpy as np"
   ]
  },
  {
   "cell_type": "code",
   "execution_count": 21,
   "metadata": {},
   "outputs": [
    {
     "name": "stdout",
     "output_type": "stream",
     "text": [
      "[[ 0.  0.]\n [ 0.  0.]\n [ 0.  0.]]\n"
     ]
    }
   ],
   "source": [
    "a=np.zeros([3,2])\n",
    "print(a)"
   ]
  },
  {
   "cell_type": "code",
   "execution_count": 22,
   "metadata": {},
   "outputs": [
    {
     "name": "stdout",
     "output_type": "stream",
     "text": [
      "[[  1.   2.]\n [  9.   0.]\n [  0.  12.]]\n"
     ]
    }
   ],
   "source": [
    "a[0, 0] = 1\n",
    "a[0, 1] = 2\n",
    "a[1, 0] = 9\n",
    "a[2, 1] = 12\n",
    "print(a)"
   ]
  },
  {
   "cell_type": "code",
   "execution_count": 23,
   "metadata": {},
   "outputs": [
    {
     "name": "stdout",
     "output_type": "stream",
     "text": [
      "2.0\n9.0\n"
     ]
    }
   ],
   "source": [
    "print(a[0, 1])\n",
    "v = a[1, 0]\n",
    "print(v)\n"
   ]
  },
  {
   "cell_type": "code",
   "execution_count": 24,
   "metadata": {},
   "outputs": [
    {
     "ename": "IndexError",
     "evalue": "index 2 is out of bounds for axis 1 with size 2",
     "traceback": [
      "\u001b[0;31m---------------------------------------------------------------------------\u001b[0m",
      "\u001b[0;31mIndexError\u001b[0m                                Traceback (most recent call last)",
      "\u001b[0;32m<ipython-input-24-6840f057b694>\u001b[0m in \u001b[0;36m<module>\u001b[0;34m()\u001b[0m\n\u001b[0;32m----> 1\u001b[0;31m \u001b[0mprint\u001b[0m\u001b[0;34m(\u001b[0m\u001b[0ma\u001b[0m\u001b[0;34m[\u001b[0m\u001b[0;36m0\u001b[0m\u001b[0;34m,\u001b[0m\u001b[0;36m2\u001b[0m\u001b[0;34m]\u001b[0m\u001b[0;34m)\u001b[0m\u001b[0;34m\u001b[0m\u001b[0m\n\u001b[0m",
      "\u001b[0;31mIndexError\u001b[0m: index 2 is out of bounds for axis 1 with size 2"
     ],
     "output_type": "error"
    }
   ],
   "source": [
    "print(a[0,2])"
   ]
  },
  {
   "cell_type": "code",
   "execution_count": 5,
   "metadata": {},
   "outputs": [
    {
     "ename": "NameError",
     "evalue": "name 'v' is not defined",
     "traceback": [
      "\u001b[0;31m---------------------------------------------------------------------------\u001b[0m",
      "\u001b[0;31mNameError\u001b[0m                                 Traceback (most recent call last)",
      "\u001b[0;32m<ipython-input-5-299dcb3d4794>\u001b[0m in \u001b[0;36m<module>\u001b[0;34m()\u001b[0m\n\u001b[0;32m----> 1\u001b[0;31m \u001b[0mprint\u001b[0m\u001b[0;34m(\u001b[0m\u001b[0mv\u001b[0m\u001b[0;34m)\u001b[0m\u001b[0;34m\u001b[0m\u001b[0m\n\u001b[0m",
      "\u001b[0;31mNameError\u001b[0m: name 'v' is not defined"
     ],
     "output_type": "error"
    }
   ],
   "source": [
    "print(v)"
   ]
  },
  {
   "cell_type": "code",
   "execution_count": 3,
   "metadata": {},
   "outputs": [
    {
     "name": "stdout",
     "output_type": "stream",
     "text": [
      "[[ 0.  0.]\n [ 0.  0.]\n [ 0.  0.]]\n"
     ]
    }
   ],
   "source": [
    "import numpy as np\n",
    "\n",
    "a = np.zeros([3, 2])\n",
    "print(a)"
   ]
  },
  {
   "cell_type": "code",
   "execution_count": 4,
   "metadata": {},
   "outputs": [
    {
     "name": "stdout",
     "output_type": "stream",
     "text": [
      "[[  1.   2.]\n [  9.   0.]\n [  0.  12.]]\n"
     ]
    }
   ],
   "source": [
    "a[0, 0] = 1\n",
    "a[0, 1] = 2\n",
    "a[1, 0] = 9\n",
    "a[2, 1] = 12\n",
    "print(a)"
   ]
  },
  {
   "cell_type": "code",
   "execution_count": null,
   "metadata": {},
   "outputs": [],
   "source": []
  },
  {
   "cell_type": "code",
   "execution_count": 5,
   "metadata": {},
   "outputs": [
    {
     "data": {
      "text/plain": [
       "<matplotlib.image.AxesImage at 0x7f5039fd64e0>"
      ]
     },
     "execution_count": 5,
     "metadata": {},
     "output_type": "execute_result"
    },
    {
     "data": {
      "image/png": "[encoded data removed]",
      "text/plain": [
       "<matplotlib.figure.Figure at 0x7f50642c96a0>"
      ]
     },
     "metadata": {},
     "output_type": "display_data"
    }
   ],
   "source": [
    "import matplotlib.pyplot\n",
    "%matplotlib inline\n",
    "\n",
    "matplotlib.pyplot.imshow(a, interpolation=\"nearest\")"
   ]
  },
  {
   "cell_type": "code",
   "execution_count": 27,
   "metadata": {},
   "outputs": [],
   "source": [
    "#class of a dog object\n",
    "class Dog:\n",
    "    def __init__(self, petName, temp):\n",
    "        self.name = petName\n",
    "        self.temperature = temp\n",
    "    #get status\n",
    "    def status(self):\n",
    "        print(\"dog name is \", self.name)\n",
    "        print(\"dog temperature is \", self.temperature)\n",
    "\n",
    "    #set temperature\n",
    "    def setTemperature(self, temp):\n",
    "        self.temperature = temp\n",
    "        pass\n",
    "\n",
    "    #dogs can bark\n",
    "    def bark(self):\n",
    "        print(\"Woof!\")\n",
    "        pass\n",
    "    pass\n"
   ]
  },
  {
   "cell_type": "code",
   "execution_count": 11,
   "metadata": {},
   "outputs": [],
   "source": [
    "sizzles = Dog()\n",
    "mutley = Dog()"
   ]
  },
  {
   "cell_type": "code",
   "execution_count": 13,
   "metadata": {},
   "outputs": [
    {
     "name": "stdout",
     "output_type": "stream",
     "text": [
      "Woof!\nWoof!\n"
     ]
    }
   ],
   "source": [
    "sizzles.bark()\n",
    "mutley.bark()"
   ]
  },
  {
   "cell_type": "code",
   "execution_count": 27,
   "metadata": {},
   "outputs": [],
   "source": [
    "Lassie = Dog(\"Lassie\", 37)"
   ]
  },
  {
   "cell_type": "code",
   "execution_count": 29,
   "metadata": {},
   "outputs": [
    {
     "name": "stdout",
     "output_type": "stream",
     "text": [
      "dog name is  Lassie\ndog temperature is  37\n"
     ]
    }
   ],
   "source": [
    "Lassie.status()"
   ]
  },
  {
   "cell_type": "code",
   "execution_count": 30,
   "metadata": {},
   "outputs": [],
   "source": [
    "Lassie.setTemperature(40)"
   ]
  },
  {
   "cell_type": "code",
   "execution_count": 31,
   "metadata": {},
   "outputs": [
    {
     "name": "stdout",
     "output_type": "stream",
     "text": [
      "dog name is  Lassie\ndog temperature is  40\n"
     ]
    }
   ],
   "source": [
    "Lassie.status()"
   ]
  },
  {
   "cell_type": "code",
   "execution_count": null,
   "metadata": {},
   "outputs": [],
   "source": []
  },
  {
   "cell_type": "code",
   "execution_count": null,
   "metadata": {},
   "outputs": [],
   "source": []
  },
  {
   "cell_type": "code",
   "execution_count": null,
   "metadata": {},
   "outputs": [],
   "source": []
  },
  {
   "cell_type": "code",
   "execution_count": null,
   "metadata": {},
   "outputs": [],
   "source": []
  }
 ],
 "metadata": {
  "kernelspec": {
   "display_name": "Python 2",
   "language": "python",
   "name": "python2"
  },
  "language_info": {
   "codemirror_mode": {
    "name": "ipython",
    "version": 2
   },
   "file_extension": ".py",
   "mimetype": "text/x-python",
   "name": "python",
   "nbconvert_exporter": "python",
   "pygments_lexer": "ipython2",
   "version": "2.7.6"
  }
 },
 "nbformat": 4,
 "nbformat_minor": 0
}
